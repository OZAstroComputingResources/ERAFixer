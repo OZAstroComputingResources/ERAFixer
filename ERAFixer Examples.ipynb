{
 "cells": [
  {
   "cell_type": "code",
   "execution_count": 1,
   "metadata": {},
   "outputs": [
    {
     "data": {
      "text/html": [
       "<style>dl {  width: 100%;  overflow: hidden;  padding: 0;  margin: 0}dt {  float: left;  width: 10%;  /* adjust the width; make sure the total of both is 100% */  padding: 0;  margin: 0}dd {  float: left;  width: 90%;  /* adjust the width; make sure the total of both is 100% */  background: #dd0  padding: 0;  margin: 0}hr.thick {    border: none;    height: 1px;    /* Set the hr color */    color: #333; /* old IE */    background-color: #333; /* Modern Browsers */}</style>"
      ],
      "text/plain": [
       "<IPython.core.display.HTML object>"
      ]
     },
     "metadata": {},
     "output_type": "display_data"
    }
   ],
   "source": [
    "%load_ext autoreload\n",
    "%autoreload 2\n",
    "\n",
    "from IPython.display import display_html, HTML, display\n",
    "css = !cat styles.css\n",
    "display(HTML(''.join(css)))\n",
    "\n",
    "import numpy as np\n",
    "\n",
    "import display_helpers"
   ]
  },
  {
   "cell_type": "code",
   "execution_count": 2,
   "metadata": {
    "collapsed": true
   },
   "outputs": [],
   "source": [
    "from erafixer import EraFixer, COL_LOOKUP"
   ]
  },
  {
   "cell_type": "code",
   "execution_count": 3,
   "metadata": {
    "collapsed": true
   },
   "outputs": [],
   "source": [
    "# Excel file\n",
    "# fn = 'ERA2018_Pubs_02_27-Oct-17.xlsx'\n",
    "fn = 'all.xlsx'"
   ]
  },
  {
   "cell_type": "markdown",
   "metadata": {},
   "source": [
    "### Command Line Help\n",
    "\n",
    "```\n",
    "➜  python erafixer.py --help\n",
    "usage: erafixer.py [-h] [--detect_author AUTHOR] [--detect_journal JOURNAL]\n",
    "                   [--set_discipline DISCIPLINE] [--split_disciplines]\n",
    "                   [--prefix PREFIX] [--carry_forward_forcs]\n",
    "                   [--set_forc FORC_STRING] [--justify JUSTIFY_STRING]\n",
    "                   [--sheet_index SHEET_INDEX] [--verbose]\n",
    "                   ERAFILE\n",
    "\n",
    "Process and update ERA codes\n",
    "\n",
    "positional arguments:\n",
    "  ERAFILE               ERA file as excel spreadsheet\n",
    "\n",
    "optional arguments:\n",
    "  -h, --help            show this help message and exit\n",
    "  --detect_author AUTHOR\n",
    "                        Part of the author name in AUTHOR column, should be\n",
    "                        unique substring\n",
    "  --detect_journal JOURNAL\n",
    "                        Part of the author name in JOURNAL column, should be\n",
    "                        unique substring\n",
    "  --set_discipline DISCIPLINE\n",
    "                        Discipline to be set\n",
    "  --split_disciplines   Split ERAFILE into different files called\n",
    "                        <PREFIX>_<DISC>.xlsx for each discipline\n",
    "  --prefix PREFIX       Prefix for split-disciplines\n",
    "  --carry_forward_forcs\n",
    "                        Carry 2015 codes forward into the corresponding 2018\n",
    "                        columns\n",
    "  --set_forc FORC_STRING\n",
    "                        Apply the FORC string\n",
    "  --justify JUSTIFY_STRING\n",
    "                        Justification string [optional for --set_forc]\n",
    "  --sheet_index SHEET_INDEX\n",
    "                        Excel sheet to use, defaults to first sheet\n",
    "  --verbose             Show some output, default false\n",
    "\n",
    "```"
   ]
  },
  {
   "cell_type": "markdown",
   "metadata": {},
   "source": [
    "### Create EraFixer instance\n",
    "\n",
    "Note the `sheet_index=1` passed to constructor. If not passed and more than one sheet is present, prompt will ask for index number (works in notebook and cli)"
   ]
  },
  {
   "cell_type": "code",
   "execution_count": 4,
   "metadata": {},
   "outputs": [
    {
     "name": "stdout",
     "output_type": "stream",
     "text": [
      "Parsing file all.xlsx\n",
      "Using sheet index 1 - Tab 1 for 02\n"
     ]
    }
   ],
   "source": [
    "erafixer = EraFixer(fn=fn, sheet_index=1, verbose=True)"
   ]
  },
  {
   "cell_type": "markdown",
   "metadata": {},
   "source": [
    "### Set Discipline\n",
    "\n",
    "Corresponds to the `--detect_author` and `--detect_journal` options"
   ]
  },
  {
   "cell_type": "markdown",
   "metadata": {},
   "source": [
    "#### By Journal"
   ]
  },
  {
   "cell_type": "code",
   "execution_count": 5,
   "metadata": {
    "collapsed": true
   },
   "outputs": [],
   "source": [
    "journal_list = [\n",
    "    ('astrophysical', 'astro'),\n",
    "    ('geophysics', 'geo'),\n",
    "    ('optics express', 'photonics')\n",
    "]"
   ]
  },
  {
   "cell_type": "code",
   "execution_count": 6,
   "metadata": {},
   "outputs": [
    {
     "name": "stdout",
     "output_type": "stream",
     "text": [
      "Setting discipline to 'astro' for 'astrophysical' on 159 rows\n",
      "Setting discipline to 'geo' for 'geophysics' on 4 rows\n",
      "'geo' not in PhysAstro, setting HANDLED=1\n",
      "Setting discipline to 'photonics' for 'optics express' on 96 rows\n"
     ]
    }
   ],
   "source": [
    "for journal in journal_list:\n",
    "    erafixer.set_journal_discipline(journal[0], journal[1])"
   ]
  },
  {
   "cell_type": "markdown",
   "metadata": {},
   "source": [
    "#### By Author"
   ]
  },
  {
   "cell_type": "code",
   "execution_count": 7,
   "metadata": {},
   "outputs": [
    {
     "name": "stdout",
     "output_type": "stream",
     "text": [
      "Setting discipline to 'astro' for 'marco' on 52 rows\n"
     ]
    }
   ],
   "source": [
    "# WARNING: This generates a false positive, see row 1 of disc_astro.xlsx after split\n",
    "erafixer.set_author_discipline('marco', 'astro')"
   ]
  },
  {
   "cell_type": "code",
   "execution_count": 8,
   "metadata": {
    "collapsed": true
   },
   "outputs": [],
   "source": [
    "author_list = [\n",
    "    ('zvyagin', 'biophotonics'),\n",
    "    ('schwab', 'astro'),\n",
    "    ('gee', 'astro'),\n",
    "    ('mcgee', 'astro'),\n",
    "    ('steel', 'quantum'),\n",
    "    ('steele', 'astro'),\n",
    "    ('casteels', 'astro'),\n",
    "    ('spence', 'photonics')\n",
    "]"
   ]
  },
  {
   "cell_type": "code",
   "execution_count": 9,
   "metadata": {},
   "outputs": [
    {
     "name": "stdout",
     "output_type": "stream",
     "text": [
      "Setting discipline to 'biophotonics' for 'zvyagin' on 37 rows\n",
      "Setting discipline to 'astro' for 'schwab' on 30 rows\n",
      "Setting discipline to 'astro' for 'gee' on 1 rows\n",
      "Setting discipline to 'astro' for 'mcgee' on 1 rows\n",
      "Setting discipline to 'quantum' for 'steel' on 86 rows\n",
      "Setting discipline to 'astro' for 'steele' on 6 rows\n",
      "Setting discipline to 'astro' for 'casteels' on 1 rows\n",
      "Setting discipline to 'photonics' for 'spence' on 30 rows\n"
     ]
    }
   ],
   "source": [
    "for author in author_list:\n",
    "    erafixer.set_author_discipline(author[0], author[1])"
   ]
  },
  {
   "cell_type": "markdown",
   "metadata": {},
   "source": [
    "#### Save\n",
    "There is no explicit save for the commands above. The cli interface **will** automatically save back to spreadsheet when given the `--detect_author` or `--detect_journal` options"
   ]
  },
  {
   "cell_type": "code",
   "execution_count": 10,
   "metadata": {},
   "outputs": [
    {
     "name": "stdout",
     "output_type": "stream",
     "text": [
      "File saved: all.xlsx\n"
     ]
    },
    {
     "data": {
      "text/plain": [
       "'all.xlsx'"
      ]
     },
     "execution_count": 10,
     "metadata": {},
     "output_type": "execute_result"
    }
   ],
   "source": [
    "erafixer.save()"
   ]
  },
  {
   "cell_type": "markdown",
   "metadata": {},
   "source": [
    "#### Split Disciplines\n",
    "\n",
    "Note: There could also feasibly be a `--detect_discipline` command that would work against the giant spreadsheet. "
   ]
  },
  {
   "cell_type": "code",
   "execution_count": 11,
   "metadata": {},
   "outputs": [
    {
     "name": "stdout",
     "output_type": "stream",
     "text": [
      "File saved: disc_quantum.xlsx\n",
      "File saved: disc_geo.xlsx\n",
      "File saved: disc_astro.xlsx\n",
      "File saved: disc_biophotonics.xlsx\n",
      "File saved: disc_photonics.xlsx\n"
     ]
    },
    {
     "data": {
      "text/plain": [
       "['disc_quantum.xlsx',\n",
       " 'disc_geo.xlsx',\n",
       " 'disc_astro.xlsx',\n",
       " 'disc_biophotonics.xlsx',\n",
       " 'disc_photonics.xlsx']"
      ]
     },
     "execution_count": 11,
     "metadata": {},
     "output_type": "execute_result"
    }
   ],
   "source": [
    "erafixer.split_disciplines('disc')"
   ]
  },
  {
   "cell_type": "markdown",
   "metadata": {},
   "source": [
    "#### Carry Forward FORCS"
   ]
  },
  {
   "cell_type": "code",
   "execution_count": 12,
   "metadata": {},
   "outputs": [
    {
     "name": "stdout",
     "output_type": "stream",
     "text": [
      "Parsing file disc_astro.xlsx\n",
      "Using sheet index 0 - Sheet1\n"
     ]
    }
   ],
   "source": [
    "astro_erafixer = EraFixer(fn='disc_astro.xlsx', verbose=True)"
   ]
  },
  {
   "cell_type": "code",
   "execution_count": 13,
   "metadata": {},
   "outputs": [
    {
     "name": "stdout",
     "output_type": "stream",
     "text": [
      "Copying 2015 FOR codes to 2018 for unhandled rows\n",
      "Found 250 total unhandled rows\n",
      "Moving 4 values to for2_e18\n",
      "Moving 0 values to for3perc_e18\n",
      "Moving 0 values to for3_e18\n",
      "Moving 54 values to for1_e18\n",
      "Moving 1 values to for4_e18\n",
      "Moving 4 values to for2perc_e18\n",
      "Moving 1 values to for4perc_e18\n",
      "Moving 54 values to for1perc_e18\n"
     ]
    }
   ],
   "source": [
    "astro_erafixer.carry_forward_forcs()"
   ]
  },
  {
   "cell_type": "code",
   "execution_count": 14,
   "metadata": {},
   "outputs": [
    {
     "name": "stdout",
     "output_type": "stream",
     "text": [
      "File saved: disc_astro.xlsx\n"
     ]
    },
    {
     "data": {
      "text/plain": [
       "'disc_astro.xlsx'"
      ]
     },
     "execution_count": 14,
     "metadata": {},
     "output_type": "execute_result"
    }
   ],
   "source": [
    "astro_erafixer.save()"
   ]
  },
  {
   "cell_type": "markdown",
   "metadata": {},
   "source": [
    "#### Apply FORC_STRING"
   ]
  },
  {
   "cell_type": "code",
   "execution_count": 15,
   "metadata": {},
   "outputs": [
    {
     "name": "stdout",
     "output_type": "stream",
     "text": [
      "Parsing file disc_astro.xlsx\n",
      "Using sheet index 0 - Sheet1\n"
     ]
    }
   ],
   "source": [
    "astro_erafixer = EraFixer(fn='disc_astro.xlsx', verbose=True)"
   ]
  },
  {
   "cell_type": "code",
   "execution_count": 16,
   "metadata": {
    "scrolled": false
   },
   "outputs": [
    {
     "name": "stdout",
     "output_type": "stream",
     "text": [
      "Applying FORC_STRING '0201'\n"
     ]
    }
   ],
   "source": [
    "forc_string = '0201'\n",
    "\n",
    "astro_erafixer.set_forc_string(forc_string)"
   ]
  },
  {
   "cell_type": "code",
   "execution_count": 17,
   "metadata": {},
   "outputs": [
    {
     "name": "stdout",
     "output_type": "stream",
     "text": [
      "File saved: disc_astro.xlsx\n"
     ]
    },
    {
     "data": {
      "text/plain": [
       "'disc_astro.xlsx'"
      ]
     },
     "execution_count": 17,
     "metadata": {},
     "output_type": "execute_result"
    }
   ],
   "source": [
    "astro_erafixer.save()"
   ]
  },
  {
   "cell_type": "markdown",
   "metadata": {},
   "source": [
    "##### More examples"
   ]
  },
  {
   "cell_type": "code",
   "execution_count": 18,
   "metadata": {},
   "outputs": [
    {
     "name": "stdout",
     "output_type": "stream",
     "text": [
      "Parsing file disc_photonics.xlsx\n",
      "Using sheet index 0 - Sheet1\n",
      "Applying FORC_STRING '0205'\n",
      "File saved: disc_photonics.xlsx\n"
     ]
    },
    {
     "data": {
      "text/plain": [
       "'disc_photonics.xlsx'"
      ]
     },
     "execution_count": 18,
     "metadata": {},
     "output_type": "execute_result"
    }
   ],
   "source": [
    "# Other examples\n",
    "photonics_erafixer = EraFixer(fn='disc_photonics.xlsx', verbose=True)\n",
    "\n",
    "author = 'spence'\n",
    "\n",
    "forc_string = '0205'\n",
    "# forc_string = '0201:40,0203'\n",
    "# forc_string = '0201:40,0203:60'\n",
    "# forc_string = '0201:40,0203:30,0204'\n",
    "# forc_string = '0201:40,0203:25,0204:30'\n",
    "\n",
    "# justify_string = None\n",
    "justify_string = 'Development of Raman lasers'\n",
    "\n",
    "photonics_erafixer.set_forc_string(forc_string, justify_string=justify_string, author=author)\n",
    "photonics_erafixer.save()"
   ]
  },
  {
   "cell_type": "markdown",
   "metadata": {},
   "source": [
    "### Test author match\n",
    "\n",
    "We want to make sure we are matching the correct authors. The author should be supplied as the full last name of the author in question. Names are not stored correctly in the excel sheet (should be in UTF-8) but will still match on bad characters. See top name below."
   ]
  },
  {
   "cell_type": "code",
   "execution_count": 19,
   "metadata": {
    "scrolled": true
   },
   "outputs": [
    {
     "name": "stdout",
     "output_type": "stream",
     "text": [
      "[242, 268, 1365, 1492]\n"
     ]
    },
    {
     "data": {
      "text/html": [
       "<dl><dt>Full Name</dt><dd>Jelã­Nkovã¡ Helena</dd><dt>&nbsp;</dt><dd>&nbsp;</dd><dt>Authors:</dt><dd>JelÃ­nkovÃ¡ Helena;Kitzler OndÂ¿ej;JelÃ­nek Michal;Â¿ulc Jan;NÂ¿mec Michal;KubeÂ¿ek VÃ¡clav</dd><dt>Title:</dt><dd>Diamond Raman laser in eye safe region </dd><dt>---</dt><dd>&nbsp;</dd><dt>Authors:</dt><dd>Kitzler OndÂ¿ej;JelÃ­nkovÃ¡ Helena;Â¿ulc Jan;KoubÃ­kovÃ¡ Lucia;NÂ¿mec Michal;Nejezchleb Karel;Â¿koda VÃ¡clav</dd><dt>Title:</dt><dd>High energy intracavity pumped eye-safe BaWOÂ¿ Raman laser </dd><dt>---</dt><dd>&nbsp;</dd><dt>Authors:</dt><dd>JelÃ­nek Michal;Kitzler OndÂ¿ej;JelÃ­nkovÃ¡ Helena;Â¿ulc Jan;NÂ¿mec Michal;KubeÂ¿ek VÃ¡clav</dd><dt>Title:</dt><dd>CVD-diamond external cavity Raman laser operating at 1632 nm </dd><dt>---</dt><dd>&nbsp;</dd><dt>Authors:</dt><dd>JelÃ­nek M.;Kitzler O.;JelÃ­nkovÃ¡ H.;Â¿ulc J.;NÂ¿mec M.</dd><dt>Title:</dt><dd>CVD-diamond external cavity nanosecond Raman laser operating at 1.63 Â¿m pumped by 1.34 Â¿m Nd:YAP laser </dd><dt>---</dt><dd>&nbsp;</dd></dl><hr class=\"thick\">"
      ]
     },
     "metadata": {},
     "output_type": "display_data"
    },
    {
     "name": "stdout",
     "output_type": "stream",
     "text": [
      "[1374]\n"
     ]
    },
    {
     "data": {
      "text/html": [
       "<dl><dt>Full Name</dt><dd>Gee Wilfred T.</dd><dt>&nbsp;</dt><dd>&nbsp;</dd><dt>Authors:</dt><dd>Gee Wilfred T.;Guyon Olivier;Walawender Josh;Jovanovic Nemanja;Boucher Luc</dd><dt>Title:</dt><dd>Project PANOPTES a citizen-scientist exoplanet transit survey using commercial digital cameras</dd><dt>---</dt><dd>&nbsp;</dd></dl><hr class=\"thick\">"
      ]
     },
     "metadata": {},
     "output_type": "display_data"
    },
    {
     "name": "stdout",
     "output_type": "stream",
     "text": [
      "[29, 374]\n"
     ]
    },
    {
     "data": {
      "text/html": [
       "<dl><dt>Full Name</dt><dd>Mcgee Lucy E.</dd><dt>&nbsp;</dt><dd>&nbsp;</dd><dt>Authors:</dt><dd>Corvec Nicolas Le;Bebbington Mark S.;Lindsay Jan M.;McGee Lucy E.</dd><dt>Title:</dt><dd>Age, distance, and geochemical evolution within a monogenetic volcanic field Analyzing patterns in the Auckland Volcanic Field eruption sequence</dd><dt>---</dt><dd>&nbsp;</dd><dt>Authors:</dt><dd>Lavoie S.;Willis J. P.;DÃ©moclÃ¨s J.;Eckert D.;Gastaldello F.;Smith G. P.;Lidman C.;Adami C.;Pacaud F.;Pierre M.;Clerc N.;Giles P.;Lieu M.;Chiappetti L.;Altieri B.;Ardila F.;Baldry I.;Bongiorno A.;Desai S.;Elyiv A.;Faccioli L.;Gardner B.;Garilli B.;Groote M. W.;Guennou L.;Guzzo L.;Hopkins A. M.;Liske J.;McGee S.;Melnyk O.;Owers M. S.;Poggianti B.;Ponman T. J.;Scodeggio M.;Spitler L.;Tuffs R. J.</dd><dt>Title:</dt><dd>The XXL survey XV evidence for dry merger driven BCG growth in XXL-100-GC X-ray clusters</dd><dt>---</dt><dd>&nbsp;</dd></dl><hr class=\"thick\">"
      ]
     },
     "metadata": {},
     "output_type": "display_data"
    },
    {
     "name": "stdout",
     "output_type": "stream",
     "text": [
      "[3, 8, 42, 56, 64, 69, 93, 109, 118, 122, 135, 157, 174, 189, 206, 214, 220, 239, 249, 267, 286, 308, 319, 320, 339, 510, 535, 735, 748, 757, 763, 764, 770, 772, 776, 1050, 1054, 1060, 1061, 1072, 1086, 1090, 1092, 1094, 1097, 1108, 1110, 1114, 1119, 1134, 1135, 1138, 1148, 1153, 1158, 1162, 1167, 1168, 1174, 1179, 1182, 1192, 1201, 1206, 1215, 1216, 1219, 1223, 1240, 1246, 1283, 1290, 1292, 1301, 1308, 1309, 1313, 1325, 1340, 1341, 1342, 1345, 1348, 1371, 1373, 1380, 1457, 1460, 1482, 1486, 1490, 1499, 1504, 1573, 1576, 1618, 1637, 1641, 1657, 1679, 1680, 1681]\n"
     ]
    },
    {
     "data": {
      "text/html": [
       "<dl><dt>Full Name</dt><dd>Steel Michael James</dd><dt>&nbsp;</dt><dd>&nbsp;</dd><dt>Authors:</dt><dd>Rohde Peter ; Helt Lukas Gordon ; Steel Michael James ; Gilchrist Alexei</dd><dt>Title:</dt><dd>Multiplexed single-photon-state preparation using a fiber-loop architecture</dd><dt>---</dt><dd>&nbsp;</dd><dt>Authors:</dt><dd>Wolff C. ; Steel Michael James ; Eggleton B. J. ; Poulton Christopher</dd><dt>Title:</dt><dd>Stimulated Brillouin scattering in integrated photonic waveguides : forces, scattering mechanisms, and coupled-mode analysis</dd><dt>---</dt><dd>&nbsp;</dd><dt>Authors:</dt><dd>Dezfouli M. Kamandar ; Dignam M M ; Steel Michael James ; Sipe J. E.</dd><dt>Title:</dt><dd>Heisenberg treatment of pair generation in lossy coupled-cavity systems</dd><dt>---</dt><dd>&nbsp;</dd><dt>Authors:</dt><dd>Vergyris P.;Meany T.;Lunghi T.;Downes J.;Steel M. J.;Withford M. J.;Alibart O.;Tanzilli S.</dd><dt>Title:</dt><dd>Configurable heralded two-photon states on a chip </dd><dt>---</dt><dd>&nbsp;</dd></dl><hr class=\"thick\">"
      ]
     },
     "metadata": {},
     "output_type": "display_data"
    },
    {
     "name": "stdout",
     "output_type": "stream",
     "text": [
      "[3, 8, 42, 56, 64, 69, 93, 109, 118, 122, 135, 157, 174, 189, 206, 214, 220, 239, 249, 267, 286, 308, 319, 320, 339, 510, 535, 735, 748, 757, 763, 764, 770, 772, 776, 1050, 1054, 1060, 1061, 1072, 1086, 1090, 1092, 1094, 1097, 1108, 1110, 1114, 1119, 1134, 1135, 1138, 1148, 1153, 1158, 1162, 1167, 1168, 1174, 1179, 1182, 1192, 1201, 1206, 1215, 1216, 1219, 1223, 1240, 1246, 1283, 1290, 1292, 1301, 1308, 1309, 1313, 1325, 1340, 1341, 1342, 1345, 1348, 1371, 1373, 1380, 1457, 1460, 1482, 1486, 1490, 1499, 1504, 1573, 1576, 1618, 1637, 1641, 1657, 1679, 1680, 1681]\n"
     ]
    },
    {
     "data": {
      "text/html": [
       "<dl><dt>Full Name</dt><dd>Steel Michael James</dd><dt>&nbsp;</dt><dd>&nbsp;</dd><dt>Authors:</dt><dd>Rohde Peter ; Helt Lukas Gordon ; Steel Michael James ; Gilchrist Alexei</dd><dt>Title:</dt><dd>Multiplexed single-photon-state preparation using a fiber-loop architecture</dd><dt>---</dt><dd>&nbsp;</dd><dt>Authors:</dt><dd>Wolff C. ; Steel Michael James ; Eggleton B. J. ; Poulton Christopher</dd><dt>Title:</dt><dd>Stimulated Brillouin scattering in integrated photonic waveguides : forces, scattering mechanisms, and coupled-mode analysis</dd><dt>---</dt><dd>&nbsp;</dd><dt>Authors:</dt><dd>Dezfouli M. Kamandar ; Dignam M M ; Steel Michael James ; Sipe J. E.</dd><dt>Title:</dt><dd>Heisenberg treatment of pair generation in lossy coupled-cavity systems</dd><dt>---</dt><dd>&nbsp;</dd><dt>Authors:</dt><dd>Vergyris P.;Meany T.;Lunghi T.;Downes J.;Steel M. J.;Withford M. J.;Alibart O.;Tanzilli S.</dd><dt>Title:</dt><dd>Configurable heralded two-photon states on a chip </dd><dt>---</dt><dd>&nbsp;</dd></dl><hr class=\"thick\">"
      ]
     },
     "metadata": {},
     "output_type": "display_data"
    },
    {
     "name": "stdout",
     "output_type": "stream",
     "text": [
      "[491, 872, 964, 970, 971, 987, 990]\n"
     ]
    },
    {
     "data": {
      "text/html": [
       "<dl><dt>Full Name</dt><dd>Steele O.</dd><dt>&nbsp;</dt><dd>&nbsp;</dd><dt>Authors:</dt><dd>Lara-LÃ³pez M. A.;Hopkins A. M.;Robotham A.;Owers M. S.;Colless M.;Brough S.;Norberg P.;Steele O.;Taylor E. N.;Thomas D.</dd><dt>Title:</dt><dd>Galaxy And Mass Assembly (GAMA) The M-Z relation for galaxy groups</dd><dt>---</dt><dd>&nbsp;</dd><dt>Authors:</dt><dd>Bundy Kevin ; Bershady Matthew A. ; Law David ; Yan Renbin ; Drory Niv ; MacDonald Nicholas R. ; Wake David A. ; Cherinka Brian A. ; Sanchez-Gallego Jose Ramon ; Weijmans Anne-Marie ; Thomas Daniel B. ; Tremonti Christy A ; Masters Karen Louise ; Coccato Lodovico ; Diamond-Stanic Aleksandar M. ; Aragon-Salamanca Alfonso ; Avila-Reese Vladimir ; Badenes Carlos ; Falcon-Barroso Jesus ; Belfiore Francesco ; Bizyaev Dmitriy V ; Blanc Guillermo A. ; Bland-Hawthorn Jonathan ; Blanton Michael R ; Brownstein Joel R. ; Byler Nell ; Cappellari Michele ; Conroy Charlie ; Dutton Aaron A. ; Emsellem Eric ; Etherington James ; Frinchaboy Peter M. ; Fu Hai ; Gunn James E ; Harding Paul ; Johnston Evelyn J. ; Kauffmann Guinevere ; Kinemuchi Karen ; Klaene Mark A. ; Klaene Mark A. ; Leauthaud Alexie ; Li Cheng ; Lin Lihwai ; Maiolino Roberto ; Malanushenko Viktor ; Malanushenko Elena ; Mao Shude ; Maraston C ; McDermid Richard ; Merrifield Michael R. ; Nichol Robert C. ; Oravetz Daniel J. ; Pan Kaike ; Parejko John K. ; Sanchez Sebastian F. ; Schlegel David J ; Simmons Audrey E. ; Steele Oliver ; Steinmetz Matthias ; Thanjavur Karun ; Thompson Benjamin A. ; Tinker Jeremy L. ; van den Bosch Remco C. E. ; Westfall Kyle B. ; Wilkinson David ; Wright Shelley ; Xiao Ting ; Zhang Kai</dd><dt>Title:</dt><dd>Overview of the SDSS-IV MaNGA survey : mapping nearby galaxies at Apache Point Observatory</dd><dt>---</dt><dd>&nbsp;</dd><dt>Authors:</dt><dd>Lara-Lopez M. A. ; Hopkins A M ; Lopez-Sanchez Angel ; Brough S. ; Colless Matthew ; Bland-Hawthorn Jonathan ; Driver S P ; Foster C. ; Liske J. ; Loveday J ; Robotham A. S. G. ; Sharp R ; Steele O. ; Taylor E.</dd><dt>Title:</dt><dd>Galaxy And Mass Assembly (GAMA) : the connection between metals, specific SFR and H I gas in galaxies : the Z-SSFR relation</dd><dt>---</dt><dd>&nbsp;</dd><dt>Authors:</dt><dd>Gunawardhana M. ; Hopkins A M ; Bland-Hawthorn Jonathan ; Brough S. ; Sharp R ; Loveday J ; Taylor E. ; Jones D. Heath ; Lara-Lopez M. A. ; Bauer Amanda E. ; Colless Matthew ; Owers M. S. ; Baldry Ivan K. ; Lopez-Sanchez Angel ; Foster C. ; Bamford S P ; Brown M. J. I. ; Driver S P ; Drinkwater J. ; Liske J. ; Meyer M. ; Norberg P. ; Robotham A. S. G. ; Ching John Ho Yuen ; Cluver M. E. ; Croom Scott ; Kelvin L. S. ; Prescott M. ; Steele O. ; Thomas D. ; Wang L</dd><dt>Title:</dt><dd>Galaxy and mass assembly: evolution of the H-alpha luminosity function and star formation rate density up to z < 0.35</dd><dt>---</dt><dd>&nbsp;</dd></dl><hr class=\"thick\">"
      ]
     },
     "metadata": {},
     "output_type": "display_data"
    },
    {
     "name": "stdout",
     "output_type": "stream",
     "text": [
      "[887]\n"
     ]
    },
    {
     "data": {
      "text/html": [
       "<dl><dt>Full Name</dt><dd>Casteels Kevin R. V.</dd><dt>&nbsp;</dt><dd>&nbsp;</dd><dt>Authors:</dt><dd>Casteels Kevin R. V. ; Conselice C J ; Bamford S P ; Salvador-Sole Eduard ; Norberg P. ; Agius Nicola K. ; Baldry Ivan K. ; Brough Sarah ; Brownstein Michael J. ; Drinkwater Michael J ; Driver Simon ; Graham Alister W. ; Bland-Hawthorn Jonathan ; Hopkins Andrew ; Kelvin L. S. ; Lopez-Sanchez Angel ; Loveday Jon O N ; Robotham A. S. G. ; Vazquez-Mata J. A.</dd><dt>Title:</dt><dd>Galaxy And Mass Assembly (GAMA) : refining the local galaxy merger rate using morphological information</dd><dt>---</dt><dd>&nbsp;</dd></dl><hr class=\"thick\">"
      ]
     },
     "metadata": {},
     "output_type": "display_data"
    },
    {
     "name": "stdout",
     "output_type": "stream",
     "text": [
      "[5, 7, 15, 303, 511, 1234, 1249]\n"
     ]
    },
    {
     "data": {
      "text/html": [
       "<dl><dt>Full Name</dt><dd>Xia Ke Yu</dd><dt>&nbsp;</dt><dd>&nbsp;</dd><dt>Authors:</dt><dd>Xia Ke Yu ; Zhao Nan ; Twamley Jason</dd><dt>Title:</dt><dd>Detection of a weak magnetic field via cavity-enhanced Faraday rotation</dd><dt>---</dt><dd>&nbsp;</dd><dt>Authors:</dt><dd>Xia Ke Yu ; Twamley Jason</dd><dt>Title:</dt><dd>Solid-state optical interconnect between distant superconducting quantum chips</dd><dt>---</dt><dd>&nbsp;</dd><dt>Authors:</dt><dd>Xia Ke Yu ; Lu Guowei ; Lin Gongwei ; Cheng Yuqing ; Niu Yueping ; Gong Shangqing ; Twamley Jason</dd><dt>Title:</dt><dd>Reversible nonmagnetic single-photon isolation using unbalanced quantum coupling</dd><dt>---</dt><dd>&nbsp;</dd><dt>Authors:</dt><dd>Xia Keyu;Brennen Gavin K.;Ellinas Demosthenes;Twamley Jason</dd><dt>Title:</dt><dd>Deterministic generation of an on-demand photon fock state from a solid-state system </dd><dt>---</dt><dd>&nbsp;</dd></dl><hr class=\"thick\">"
      ]
     },
     "metadata": {},
     "output_type": "display_data"
    },
    {
     "name": "stdout",
     "output_type": "stream",
     "text": [
      "[273, 872, 1366]\n"
     ]
    },
    {
     "data": {
      "text/html": [
       "<dl><dt>Full Name</dt><dd>Che Xiao</dd><dt>&nbsp;</dt><dd>&nbsp;</dd><dt>Authors:</dt><dd>Che Xiao;Sturmann Laszlo;Monnier John D.;ten Brummelaar Theo A.;Sturmann Judit;Ridgway Stephen T.;Ireland Michael J.;Turner Nils H.;McAlister Harold A.</dd><dt>Title:</dt><dd>The CHARA array adaptive optics I common-path optical and mechanical design, and preliminary on-sky results</dd><dt>---</dt><dd>&nbsp;</dd><dt>Authors:</dt><dd>Bundy Kevin ; Bershady Matthew A. ; Law David ; Yan Renbin ; Drory Niv ; MacDonald Nicholas R. ; Wake David A. ; Cherinka Brian A. ; Sanchez-Gallego Jose Ramon ; Weijmans Anne-Marie ; Thomas Daniel B. ; Tremonti Christy A ; Masters Karen Louise ; Coccato Lodovico ; Diamond-Stanic Aleksandar M. ; Aragon-Salamanca Alfonso ; Avila-Reese Vladimir ; Badenes Carlos ; Falcon-Barroso Jesus ; Belfiore Francesco ; Bizyaev Dmitriy V ; Blanc Guillermo A. ; Bland-Hawthorn Jonathan ; Blanton Michael R ; Brownstein Joel R. ; Byler Nell ; Cappellari Michele ; Conroy Charlie ; Dutton Aaron A. ; Emsellem Eric ; Etherington James ; Frinchaboy Peter M. ; Fu Hai ; Gunn James E ; Harding Paul ; Johnston Evelyn J. ; Kauffmann Guinevere ; Kinemuchi Karen ; Klaene Mark A. ; Klaene Mark A. ; Leauthaud Alexie ; Li Cheng ; Lin Lihwai ; Maiolino Roberto ; Malanushenko Viktor ; Malanushenko Elena ; Mao Shude ; Maraston C ; McDermid Richard ; Merrifield Michael R. ; Nichol Robert C. ; Oravetz Daniel J. ; Pan Kaike ; Parejko John K. ; Sanchez Sebastian F. ; Schlegel David J ; Simmons Audrey E. ; Steele Oliver ; Steinmetz Matthias ; Thanjavur Karun ; Thompson Benjamin A. ; Tinker Jeremy L. ; van den Bosch Remco C. E. ; Westfall Kyle B. ; Wilkinson David ; Wright Shelley ; Xiao Ting ; Zhang Kai</dd><dt>Title:</dt><dd>Overview of the SDSS-IV MaNGA survey : mapping nearby galaxies at Apache Point Observatory</dd><dt>---</dt><dd>&nbsp;</dd><dt>Authors:</dt><dd>Ten Brummelaar Theo A.;Sturmann Laszlo;Sturmann Judit;Ridgway Stephen T.;Monnier John D.;Ireland Michael J.;Che Xiao;McAlister Harold A.;Turner Nils H.;Tuthill P. G.</dd><dt>Title:</dt><dd>Adaptive optics for the CHARA array </dd><dt>---</dt><dd>&nbsp;</dd></dl><hr class=\"thick\">"
      ]
     },
     "metadata": {},
     "output_type": "display_data"
    },
    {
     "name": "stdout",
     "output_type": "stream",
     "text": [
      "[50, 57, 70, 156, 203, 738, 740, 747, 1088, 1115, 1117, 1121, 1123, 1126, 1132, 1147, 1155, 1170, 1171, 1199, 1202, 1207, 1229, 1239, 1274, 1278, 1282, 1295, 1298, 1319, 1323, 1328, 1481, 1487, 1493, 1505, 1579, 1597, 1632]\n"
     ]
    },
    {
     "data": {
      "text/html": [
       "<dl><dt>Full Name</dt><dd>Zvyagin Andrei V.</dd><dt>&nbsp;</dt><dd>&nbsp;</dd><dt>Authors:</dt><dd>Razali Wan A. W.;Sreenivasan Varun K.A.;Bradac Carlo;Connor Mark;Goldys Ewa M.;Zvyagin Andrei V.</dd><dt>Title:</dt><dd>Wide-field time-gated photoluminescence microscopy for fast ultrahigh-sensitivity imaging of photoluminescent probes </dd><dt>---</dt><dd>&nbsp;</dd><dt>Authors:</dt><dd>Guller Anna;Nadort Annemarie;Generalova Alla;Kornienko Inna;Petersen Elena;Qian Yi;Shekhter Anatoly;Goldys Ewa;Zvyagin Andrei</dd><dt>Title:</dt><dd>Onion-like surface design of upconverting nanophosphors modified with polyethylenimine shielding toxicity versus keeping brightness?</dd><dt>---</dt><dd>&nbsp;</dd><dt>Authors:</dt><dd>Zvyagin A. V.;Sreenivasan V. K A;Kelf T. A.;Deyev S. M.</dd><dt>Title:</dt><dd>Luminescent nanodiamonds for intracellular imaging </dd><dt>---</dt><dd>&nbsp;</dd><dt>Authors:</dt><dd>Popov Alexey P.;Bykov Alexander V.;Sokolov Victor I.;Lysak Yulia V.;Nadort Annemarie;Priezzhev Alexander V.;MyllylÃ¤ Risto;Zvyagin Andrei V.</dd><dt>Title:</dt><dd>Upconversion luminophores as a novel tool for deep tissue imaging </dd><dt>---</dt><dd>&nbsp;</dd></dl><hr class=\"thick\">"
      ]
     },
     "metadata": {},
     "output_type": "display_data"
    }
   ],
   "source": [
    "authors = [\n",
    "    'JelÃ­nkovÃ¡',\n",
    "    'gee',\n",
    "    'McGee',\n",
    "    '    sTeEl ',\n",
    "    'steel',\n",
    "    'steele',\n",
    "    'casteels',\n",
    "    'xia',\n",
    "    'xiao',\n",
    "    'Zvyagin'\n",
    "]\n",
    "\n",
    "for author in authors:\n",
    "    \n",
    "    row_match = erafixer.get_matching_rows(author, 'AUTHORS', blank_discipline=False)\n",
    "    print(row_match)\n",
    "    if(row_match):\n",
    "        display_helpers.show_matches(erafixer, row_match, author)"
   ]
  }
 ],
 "metadata": {
  "kernelspec": {
   "display_name": "Python [conda root]",
   "language": "python",
   "name": "conda-root-py"
  },
  "language_info": {
   "codemirror_mode": {
    "name": "ipython",
    "version": 3
   },
   "file_extension": ".py",
   "mimetype": "text/x-python",
   "name": "python",
   "nbconvert_exporter": "python",
   "pygments_lexer": "ipython3",
   "version": "3.5.2"
  }
 },
 "nbformat": 4,
 "nbformat_minor": 2
}
