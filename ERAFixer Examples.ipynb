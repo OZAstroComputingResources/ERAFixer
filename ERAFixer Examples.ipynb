{
 "cells": [
  {
   "cell_type": "code",
   "execution_count": 1,
   "metadata": {},
   "outputs": [
    {
     "data": {
      "text/html": [
       "<style>dl {  width: 100%;  overflow: hidden;  padding: 0;  margin: 0}dt {  float: left;  width: 10%;  /* adjust the width; make sure the total of both is 100% */  padding: 0;  margin: 0}dd {  float: left;  width: 90%;  /* adjust the width; make sure the total of both is 100% */  background: #dd0  padding: 0;  margin: 0}hr.thick {    border: none;    height: 1px;    /* Set the hr color */    color: #333; /* old IE */    background-color: #333; /* Modern Browsers */}</style>"
      ],
      "text/plain": [
       "<IPython.core.display.HTML object>"
      ]
     },
     "metadata": {},
     "output_type": "display_data"
    }
   ],
   "source": [
    "%load_ext autoreload\n",
    "%autoreload 2\n",
    "\n",
    "from IPython.display import display_html, HTML, display\n",
    "css = !cat styles.css\n",
    "display(HTML(''.join(css)))\n",
    "\n",
    "import numpy as np\n",
    "\n",
    "import display_helpers"
   ]
  },
  {
   "cell_type": "code",
   "execution_count": 2,
   "metadata": {
    "collapsed": true
   },
   "outputs": [],
   "source": [
    "from erafixer import EraFixer, COL_LOOKUP"
   ]
  },
  {
   "cell_type": "code",
   "execution_count": 28,
   "metadata": {
    "collapsed": true
   },
   "outputs": [],
   "source": [
    "# Excel file\n",
    "# fn = 'ERA2018_Pubs_02_27-Oct-17.xlsx'\n",
    "fn = 'all.xlsx'"
   ]
  },
  {
   "cell_type": "markdown",
   "metadata": {},
   "source": [
    "### Create EraFixer instance"
   ]
  },
  {
   "cell_type": "code",
   "execution_count": 43,
   "metadata": {},
   "outputs": [
    {
     "name": "stdout",
     "output_type": "stream",
     "text": [
      "Parsing file all.xlsx\n",
      "Using sheet index 1 - Tab 1 for 02\n"
     ]
    }
   ],
   "source": [
    "erafixer = EraFixer(fn=fn, sheet_index=1, verbose=True)"
   ]
  },
  {
   "cell_type": "code",
   "execution_count": 44,
   "metadata": {},
   "outputs": [
    {
     "name": "stdout",
     "output_type": "stream",
     "text": [
      "Setting discipline to 'biophotonics' for 'Zvyagin'\n",
      "Found 0 matches for 'Zvyagin' with empty discipline\n",
      "Setting discipline to 'astro' for 'Schwab'\n",
      "Found 32 matches for 'Schwab' with empty discipline\n",
      "Setting discipline to 'astro' for 'Gee'\n",
      "Found 1 matches for 'Gee' with empty discipline\n"
     ]
    }
   ],
   "source": [
    "erafixer.set_author_discipline('Zvyagin', 'biophotonics')\n",
    "erafixer.set_author_discipline('Schwab', 'astro')\n",
    "erafixer.set_author_discipline('Gee', 'astro')"
   ]
  },
  {
   "cell_type": "code",
   "execution_count": 45,
   "metadata": {},
   "outputs": [
    {
     "name": "stdout",
     "output_type": "stream",
     "text": [
      "Setting discipline to 'astro' for 'astrophysical'\n",
      "Found 0 matches for 'astrophysical' with empty discipline\n",
      "Setting discipline to 'geo' for 'geophysical'\n",
      "Found 0 matches for 'geophysical' with empty discipline\n",
      "Setting discipline to 'geo' for 'geophysics'\n",
      "Found 0 matches for 'geophysics' with empty discipline\n",
      "Setting discipline to 'photonics' for 'optics express'\n",
      "Found 0 matches for 'optics express' with empty discipline\n"
     ]
    }
   ],
   "source": [
    "erafixer.set_journal_discipline('astrophysical', 'astro')\n",
    "erafixer.set_journal_discipline('geophysical', 'geo')\n",
    "erafixer.set_journal_discipline('geophysics', 'geo')\n",
    "erafixer.set_journal_discipline('optics express', 'photonics')"
   ]
  },
  {
   "cell_type": "code",
   "execution_count": 7,
   "metadata": {},
   "outputs": [
    {
     "name": "stdout",
     "output_type": "stream",
     "text": [
      "Writing sheet 'Legend' to all.xlsx\n",
      "Writing sheet 'Tab 1 for 02' to all.xlsx\n",
      "Writing sheet 'Tab 2 for 02' to all.xlsx\n"
     ]
    },
    {
     "data": {
      "text/plain": [
       "'all.xlsx'"
      ]
     },
     "execution_count": 7,
     "metadata": {},
     "output_type": "execute_result"
    }
   ],
   "source": [
    "erafixer.save()"
   ]
  },
  {
   "cell_type": "code",
   "execution_count": 8,
   "metadata": {},
   "outputs": [
    {
     "name": "stdout",
     "output_type": "stream",
     "text": [
      "Writing dataframe to disc_geo.xlsx with 4 records\n",
      "Writing dataframe to disc_biophotonics.xlsx with 39 records\n",
      "Writing dataframe to disc_astro.xlsx with 192 records\n",
      "Writing dataframe to disc_photonics.xlsx with 94 records\n"
     ]
    },
    {
     "data": {
      "text/plain": [
       "['disc_geo.xlsx',\n",
       " 'disc_biophotonics.xlsx',\n",
       " 'disc_astro.xlsx',\n",
       " 'disc_photonics.xlsx']"
      ]
     },
     "execution_count": 8,
     "metadata": {},
     "output_type": "execute_result"
    }
   ],
   "source": [
    "erafixer.split_disciplines('disc')"
   ]
  },
  {
   "cell_type": "markdown",
   "metadata": {},
   "source": [
    "#### Carry Forward FORCS"
   ]
  },
  {
   "cell_type": "code",
   "execution_count": 9,
   "metadata": {},
   "outputs": [
    {
     "name": "stdout",
     "output_type": "stream",
     "text": [
      "Parsing file disc_astro.xlsx\n",
      "Using sheet index 0 - Sheet1\n"
     ]
    }
   ],
   "source": [
    "astro_erafixer = EraFixer(fn='disc_astro.xlsx', verbose=True)"
   ]
  },
  {
   "cell_type": "code",
   "execution_count": 10,
   "metadata": {},
   "outputs": [
    {
     "name": "stdout",
     "output_type": "stream",
     "text": [
      "Found 192 matches for HANDLED=0\n",
      "Copying 2015 FOR codes to 2018 for unhandled rows\n"
     ]
    }
   ],
   "source": [
    "astro_erafixer.carry_forward_forcs()"
   ]
  },
  {
   "cell_type": "code",
   "execution_count": 11,
   "metadata": {},
   "outputs": [
    {
     "name": "stdout",
     "output_type": "stream",
     "text": [
      "Writing sheet 'Sheet1' to disc_astro.xlsx\n"
     ]
    },
    {
     "data": {
      "text/plain": [
       "'disc_astro.xlsx'"
      ]
     },
     "execution_count": 11,
     "metadata": {},
     "output_type": "execute_result"
    }
   ],
   "source": [
    "astro_erafixer.save()"
   ]
  },
  {
   "cell_type": "markdown",
   "metadata": {},
   "source": [
    "#### Apply FORC_STRING"
   ]
  },
  {
   "cell_type": "code",
   "execution_count": 24,
   "metadata": {},
   "outputs": [
    {
     "name": "stdout",
     "output_type": "stream",
     "text": [
      "Parsing file disc_astro.xlsx\n",
      "Using sheet index 0 - Sheet1\n"
     ]
    }
   ],
   "source": [
    "astro_erafixer = EraFixer(fn='disc_astro.xlsx', verbose=True)"
   ]
  },
  {
   "cell_type": "code",
   "execution_count": 25,
   "metadata": {},
   "outputs": [],
   "source": [
    "# forc_string = '0201'\n",
    "# forc_string = '0201:40,0203'\n",
    "# forc_string = '0201:40,0203:60'\n",
    "forc_string = '0201:40,0203:30,0204'\n",
    "# forc_string = '0201:40,0203:25,0204:30'\n",
    "\n",
    "# justify_string = None\n",
    "justify_string = 'Development of Raman lasers'"
   ]
  },
  {
   "cell_type": "code",
   "execution_count": 23,
   "metadata": {
    "scrolled": true
   },
   "outputs": [
    {
     "name": "stdout",
     "output_type": "stream",
     "text": [
      "Applying FORC_STRING '0201:40,0203:30,0204'\n",
      "Found 163 matches for '0' with HANDLED=0\n",
      "Not all codes present and not justify, marking HANDLED=ClawbackNeeded\n",
      "Not all codes present and not justify, marking HANDLED=ClawbackNeeded\n",
      "Not all codes present and not justify, marking HANDLED=ClawbackNeeded\n",
      "Not all codes present and not justify, marking HANDLED=ClawbackNeeded\n",
      "Not all codes present and not justify, marking HANDLED=ClawbackNeeded\n",
      "Not all codes present and not justify, marking HANDLED=ClawbackNeeded\n",
      "Not all codes present and not justify, marking HANDLED=ClawbackNeeded\n",
      "Not all codes present and not justify, marking HANDLED=ClawbackNeeded\n",
      "Not all codes present and not justify, marking HANDLED=ClawbackNeeded\n",
      "Not all codes present and not justify, marking HANDLED=ClawbackNeeded\n",
      "Not all codes present and not justify, marking HANDLED=ClawbackNeeded\n",
      "Not all codes present and not justify, marking HANDLED=ClawbackNeeded\n",
      "Not all codes present and not justify, marking HANDLED=ClawbackNeeded\n",
      "Not all codes present and not justify, marking HANDLED=ClawbackNeeded\n",
      "Not all codes present and not justify, marking HANDLED=ClawbackNeeded\n",
      "Not all codes present and not justify, marking HANDLED=ClawbackNeeded\n",
      "Not all codes present and not justify, marking HANDLED=ClawbackNeeded\n",
      "Not all codes present and not justify, marking HANDLED=ClawbackNeeded\n",
      "Not all codes present and not justify, marking HANDLED=ClawbackNeeded\n",
      "Not all codes present and not justify, marking HANDLED=ClawbackNeeded\n",
      "Not all codes present and not justify, marking HANDLED=ClawbackNeeded\n",
      "Not all codes present and not justify, marking HANDLED=ClawbackNeeded\n",
      "Not all codes present and not justify, marking HANDLED=ClawbackNeeded\n",
      "Not all codes present and not justify, marking HANDLED=ClawbackNeeded\n",
      "Not all codes present and not justify, marking HANDLED=ClawbackNeeded\n",
      "Not all codes present and not justify, marking HANDLED=ClawbackNeeded\n",
      "Not all codes present and not justify, marking HANDLED=ClawbackNeeded\n",
      "Not all codes present and not justify, marking HANDLED=ClawbackNeeded\n",
      "Not all codes present and not justify, marking HANDLED=ClawbackNeeded\n",
      "Not all codes present and not justify, marking HANDLED=ClawbackNeeded\n",
      "Not all codes present and not justify, marking HANDLED=ClawbackNeeded\n",
      "Not all codes present and not justify, marking HANDLED=ClawbackNeeded\n",
      "Not all codes present and not justify, marking HANDLED=ClawbackNeeded\n",
      "Not all codes present and not justify, marking HANDLED=ClawbackNeeded\n",
      "Not all codes present and not justify, marking HANDLED=ClawbackNeeded\n",
      "Not all codes present and not justify, marking HANDLED=ClawbackNeeded\n",
      "Not all codes present and not justify, marking HANDLED=ClawbackNeeded\n",
      "Not all codes present and not justify, marking HANDLED=ClawbackNeeded\n",
      "Not all codes present and not justify, marking HANDLED=ClawbackNeeded\n",
      "Not all codes present and not justify, marking HANDLED=ClawbackNeeded\n",
      "Not all codes present and not justify, marking HANDLED=ClawbackNeeded\n",
      "Not all codes present and not justify, marking HANDLED=ClawbackNeeded\n",
      "Not all codes present and not justify, marking HANDLED=ClawbackNeeded\n",
      "Not all codes present and not justify, marking HANDLED=ClawbackNeeded\n",
      "Not all codes present and not justify, marking HANDLED=ClawbackNeeded\n",
      "Not all codes present and not justify, marking HANDLED=ClawbackNeeded\n",
      "Not all codes present and not justify, marking HANDLED=ClawbackNeeded\n",
      "Not all codes present and not justify, marking HANDLED=ClawbackNeeded\n",
      "Not all codes present and not justify, marking HANDLED=ClawbackNeeded\n",
      "Not all codes present and not justify, marking HANDLED=ClawbackNeeded\n",
      "Not all codes present and not justify, marking HANDLED=ClawbackNeeded\n",
      "Not all codes present and not justify, marking HANDLED=ClawbackNeeded\n",
      "Not all codes present and not justify, marking HANDLED=ClawbackNeeded\n",
      "Not all codes present and not justify, marking HANDLED=ClawbackNeeded\n",
      "Not all codes present and not justify, marking HANDLED=ClawbackNeeded\n",
      "Not all codes present and not justify, marking HANDLED=ClawbackNeeded\n",
      "Not all codes present and not justify, marking HANDLED=ClawbackNeeded\n",
      "Not all codes present and not justify, marking HANDLED=ClawbackNeeded\n",
      "Not all codes present and not justify, marking HANDLED=ClawbackNeeded\n",
      "Not all codes present and not justify, marking HANDLED=ClawbackNeeded\n",
      "Not all codes present and not justify, marking HANDLED=ClawbackNeeded\n",
      "Not all codes present and not justify, marking HANDLED=ClawbackNeeded\n",
      "Not all codes present and not justify, marking HANDLED=ClawbackNeeded\n",
      "Not all codes present and not justify, marking HANDLED=ClawbackNeeded\n",
      "Not all codes present and not justify, marking HANDLED=ClawbackNeeded\n",
      "Not all codes present and not justify, marking HANDLED=ClawbackNeeded\n",
      "Not all codes present and not justify, marking HANDLED=ClawbackNeeded\n",
      "Not all codes present and not justify, marking HANDLED=ClawbackNeeded\n",
      "Not all codes present and not justify, marking HANDLED=ClawbackNeeded\n",
      "Not all codes present and not justify, marking HANDLED=ClawbackNeeded\n",
      "Not all codes present and not justify, marking HANDLED=ClawbackNeeded\n",
      "Not all codes present and not justify, marking HANDLED=ClawbackNeeded\n",
      "Not all codes present and not justify, marking HANDLED=ClawbackNeeded\n",
      "Not all codes present and not justify, marking HANDLED=ClawbackNeeded\n",
      "Not all codes present and not justify, marking HANDLED=ClawbackNeeded\n",
      "Not all codes present and not justify, marking HANDLED=ClawbackNeeded\n",
      "Not all codes present and not justify, marking HANDLED=ClawbackNeeded\n",
      "Not all codes present and not justify, marking HANDLED=ClawbackNeeded\n",
      "Not all codes present and not justify, marking HANDLED=ClawbackNeeded\n",
      "Not all codes present and not justify, marking HANDLED=ClawbackNeeded\n",
      "Not all codes present and not justify, marking HANDLED=ClawbackNeeded\n",
      "Not all codes present and not justify, marking HANDLED=ClawbackNeeded\n",
      "Not all codes present and not justify, marking HANDLED=ClawbackNeeded\n",
      "Not all codes present and not justify, marking HANDLED=ClawbackNeeded\n",
      "Not all codes present and not justify, marking HANDLED=ClawbackNeeded\n",
      "Not all codes present and not justify, marking HANDLED=ClawbackNeeded\n",
      "Not all codes present and not justify, marking HANDLED=ClawbackNeeded\n",
      "Not all codes present and not justify, marking HANDLED=ClawbackNeeded\n",
      "Not all codes present and not justify, marking HANDLED=ClawbackNeeded\n",
      "Not all codes present and not justify, marking HANDLED=ClawbackNeeded\n",
      "Not all codes present and not justify, marking HANDLED=ClawbackNeeded\n",
      "Not all codes present and not justify, marking HANDLED=ClawbackNeeded\n",
      "Not all codes present and not justify, marking HANDLED=ClawbackNeeded\n",
      "Not all codes present and not justify, marking HANDLED=ClawbackNeeded\n",
      "Not all codes present and not justify, marking HANDLED=ClawbackNeeded\n",
      "Not all codes present and not justify, marking HANDLED=ClawbackNeeded\n",
      "Not all codes present and not justify, marking HANDLED=ClawbackNeeded\n",
      "Not all codes present and not justify, marking HANDLED=ClawbackNeeded\n",
      "Not all codes present and not justify, marking HANDLED=ClawbackNeeded\n",
      "Not all codes present and not justify, marking HANDLED=ClawbackNeeded\n",
      "Not all codes present and not justify, marking HANDLED=ClawbackNeeded\n",
      "Not all codes present and not justify, marking HANDLED=ClawbackNeeded\n",
      "Not all codes present and not justify, marking HANDLED=ClawbackNeeded\n",
      "Not all codes present and not justify, marking HANDLED=ClawbackNeeded\n",
      "Not all codes present and not justify, marking HANDLED=ClawbackNeeded\n",
      "Not all codes present and not justify, marking HANDLED=ClawbackNeeded\n",
      "Not all codes present and not justify, marking HANDLED=ClawbackNeeded\n",
      "Not all codes present and not justify, marking HANDLED=ClawbackNeeded\n",
      "Not all codes present and not justify, marking HANDLED=ClawbackNeeded\n",
      "Not all codes present and not justify, marking HANDLED=ClawbackNeeded\n",
      "Not all codes present and not justify, marking HANDLED=ClawbackNeeded\n",
      "Not all codes present and not justify, marking HANDLED=ClawbackNeeded\n",
      "Not all codes present and not justify, marking HANDLED=ClawbackNeeded\n",
      "Not all codes present and not justify, marking HANDLED=ClawbackNeeded\n",
      "Not all codes present and not justify, marking HANDLED=ClawbackNeeded\n",
      "Not all codes present and not justify, marking HANDLED=ClawbackNeeded\n",
      "Not all codes present and not justify, marking HANDLED=ClawbackNeeded\n",
      "Not all codes present and not justify, marking HANDLED=ClawbackNeeded\n",
      "Not all codes present and not justify, marking HANDLED=ClawbackNeeded\n",
      "Not all codes present and not justify, marking HANDLED=ClawbackNeeded\n",
      "Not all codes present and not justify, marking HANDLED=ClawbackNeeded\n",
      "Not all codes present and not justify, marking HANDLED=ClawbackNeeded\n",
      "Not all codes present and not justify, marking HANDLED=ClawbackNeeded\n",
      "Not all codes present and not justify, marking HANDLED=ClawbackNeeded\n",
      "Not all codes present and not justify, marking HANDLED=ClawbackNeeded\n",
      "Not all codes present and not justify, marking HANDLED=ClawbackNeeded\n",
      "Not all codes present and not justify, marking HANDLED=ClawbackNeeded\n",
      "Not all codes present and not justify, marking HANDLED=ClawbackNeeded\n",
      "Not all codes present and not justify, marking HANDLED=ClawbackNeeded\n",
      "Not all codes present and not justify, marking HANDLED=ClawbackNeeded\n",
      "Not all codes present and not justify, marking HANDLED=ClawbackNeeded\n",
      "Not all codes present and not justify, marking HANDLED=ClawbackNeeded\n",
      "Not all codes present and not justify, marking HANDLED=ClawbackNeeded\n",
      "Not all codes present and not justify, marking HANDLED=ClawbackNeeded\n",
      "Not all codes present and not justify, marking HANDLED=ClawbackNeeded\n",
      "Not all codes present and not justify, marking HANDLED=ClawbackNeeded\n",
      "Not all codes present and not justify, marking HANDLED=ClawbackNeeded\n",
      "Not all codes present and not justify, marking HANDLED=ClawbackNeeded\n",
      "Not all codes present and not justify, marking HANDLED=ClawbackNeeded\n",
      "Not all codes present and not justify, marking HANDLED=ClawbackNeeded\n",
      "Not all codes present and not justify, marking HANDLED=ClawbackNeeded\n",
      "Not all codes present and not justify, marking HANDLED=ClawbackNeeded\n",
      "Not all codes present and not justify, marking HANDLED=ClawbackNeeded\n",
      "Not all codes present and not justify, marking HANDLED=ClawbackNeeded\n",
      "Not all codes present and not justify, marking HANDLED=ClawbackNeeded\n",
      "Not all codes present and not justify, marking HANDLED=ClawbackNeeded\n",
      "Not all codes present and not justify, marking HANDLED=ClawbackNeeded\n",
      "Not all codes present and not justify, marking HANDLED=ClawbackNeeded\n",
      "Not all codes present and not justify, marking HANDLED=ClawbackNeeded\n",
      "Not all codes present and not justify, marking HANDLED=ClawbackNeeded\n",
      "Not all codes present and not justify, marking HANDLED=ClawbackNeeded\n",
      "Not all codes present and not justify, marking HANDLED=ClawbackNeeded\n",
      "Not all codes present and not justify, marking HANDLED=ClawbackNeeded\n",
      "Not all codes present and not justify, marking HANDLED=ClawbackNeeded\n",
      "Not all codes present and not justify, marking HANDLED=ClawbackNeeded\n",
      "Not all codes present and not justify, marking HANDLED=ClawbackNeeded\n",
      "Not all codes present and not justify, marking HANDLED=ClawbackNeeded\n",
      "Not all codes present and not justify, marking HANDLED=ClawbackNeeded\n",
      "Not all codes present and not justify, marking HANDLED=ClawbackNeeded\n",
      "Not all codes present and not justify, marking HANDLED=ClawbackNeeded\n",
      "Not all codes present and not justify, marking HANDLED=ClawbackNeeded\n",
      "Not all codes present and not justify, marking HANDLED=ClawbackNeeded\n",
      "Not all codes present and not justify, marking HANDLED=ClawbackNeeded\n"
     ]
    }
   ],
   "source": [
    "astro_erafixer.set_forc_string(forc_string, justify_string=justify_string, )"
   ]
  },
  {
   "cell_type": "code",
   "execution_count": 47,
   "metadata": {
    "scrolled": false
   },
   "outputs": [
    {
     "data": {
      "text/plain": [
       "dict_keys([23, 29, 30, 31, 32, 33, 34, 35, 36, 37, 38, 39, 41, 42, 43, 44, 45, 46, 47, 48, 49, 50, 51, 52, 54, 55, 56, 57, 58, 59, 64, 66, 67, 68, 69, 70, 72, 73, 74, 75, 76, 77, 79, 80, 81, 82, 83, 84, 86, 87, 88, 89, 90, 91, 92, 93, 94, 95, 96, 98, 99, 100, 101, 102, 103, 104, 105, 106, 107, 108, 109, 110, 111, 112, 113, 114, 115, 116, 117, 118, 119, 120, 146, 152, 153, 154, 155, 156, 157, 158, 159, 160, 161, 162, 163, 164, 165, 166, 167, 168, 169, 170, 171, 172, 173, 175, 176, 177, 178, 179, 181, 182, 183, 184, 185, 186, 187, 188, 189, 190])"
      ]
     },
     "execution_count": 47,
     "metadata": {},
     "output_type": "execute_result"
    }
   ],
   "source": [
    "matches.keys()"
   ]
  },
  {
   "cell_type": "code",
   "execution_count": 48,
   "metadata": {},
   "outputs": [
    {
     "name": "stdout",
     "output_type": "stream",
     "text": [
      "0201 0203 0204\n",
      "40.0 30.0 30.0\n"
     ]
    }
   ],
   "source": [
    "code1, code1_perc, code2, code2_perc, code3, code3_perc = astro_erafixer._parse_forc_string(forc_string)\n",
    "    \n",
    "print(code1, code2, code3)\n",
    "print(code1_perc, code2_perc, code3_perc)"
   ]
  },
  {
   "cell_type": "markdown",
   "metadata": {},
   "source": [
    "#### Test author match\n",
    "\n",
    "We want to make sure we are matching the correct authors. The author should be supplied as the full last name of the author in question. Names are not stored correctly in the excel sheet (should be in UTF-8) but will still match on bad characters. See top name below."
   ]
  },
  {
   "cell_type": "code",
   "execution_count": 46,
   "metadata": {
    "scrolled": false
   },
   "outputs": [
    {
     "name": "stdout",
     "output_type": "stream",
     "text": [
      "Found 4 matches for AUTHORS=JelÃ­nkovÃ¡\n"
     ]
    },
    {
     "data": {
      "text/html": [
       "<dl><dt>Full Name</dt><dd>Jelã­Nkovã¡ H.</dd><dt>&nbsp;</dt><dd>&nbsp;</dd><dt>Authors:</dt><dd>JelÃ­nek M.;Kitzler O.;JelÃ­nkovÃ¡ H.;Â¿ulc J.;NÂ¿mec M.</dd><dt>Title:</dt><dd>CVD-diamond external cavity nanosecond Raman laser operating at 1.63 Â¿m pumped by 1.34 Â¿m Nd:YAP laser </dd><dt>---</dt><dd>&nbsp;</dd><dt>Authors:</dt><dd>JelÃ­nkovÃ¡ Helena;Kitzler OndÂ¿ej;JelÃ­nek Michal;Â¿ulc Jan;NÂ¿mec Michal;KubeÂ¿ek VÃ¡clav</dd><dt>Title:</dt><dd>Diamond Raman laser in eye safe region </dd><dt>---</dt><dd>&nbsp;</dd><dt>Authors:</dt><dd>Kitzler OndÂ¿ej;JelÃ­nkovÃ¡ Helena;Â¿ulc Jan;KoubÃ­kovÃ¡ Lucia;NÂ¿mec Michal;Nejezchleb Karel;Â¿koda VÃ¡clav</dd><dt>Title:</dt><dd>High energy intracavity pumped eye-safe BaWOÂ¿ Raman laser </dd><dt>---</dt><dd>&nbsp;</dd><dt>Authors:</dt><dd>JelÃ­nek Michal;Kitzler OndÂ¿ej;JelÃ­nkovÃ¡ Helena;Â¿ulc Jan;NÂ¿mec Michal;KubeÂ¿ek VÃ¡clav</dd><dt>Title:</dt><dd>CVD-diamond external cavity Raman laser operating at 1632 nm </dd><dt>---</dt><dd>&nbsp;</dd></dl><hr class=\"thick\">"
      ]
     },
     "metadata": {},
     "output_type": "display_data"
    },
    {
     "name": "stdout",
     "output_type": "stream",
     "text": [
      "Found 1 matches for AUTHORS=gee\n"
     ]
    },
    {
     "data": {
      "text/html": [
       "<dl><dt>Full Name</dt><dd>Gee Wilfred T.</dd><dt>&nbsp;</dt><dd>&nbsp;</dd><dt>Authors:</dt><dd>Gee Wilfred T.;Guyon Olivier;Walawender Josh;Jovanovic Nemanja;Boucher Luc</dd><dt>Title:</dt><dd>Project PANOPTES a citizen-scientist exoplanet transit survey using commercial digital cameras</dd><dt>---</dt><dd>&nbsp;</dd></dl><hr class=\"thick\">"
      ]
     },
     "metadata": {},
     "output_type": "display_data"
    },
    {
     "name": "stdout",
     "output_type": "stream",
     "text": [
      "Found 2 matches for AUTHORS=McGee\n"
     ]
    },
    {
     "data": {
      "text/html": [
       "<dl><dt>Full Name</dt><dd>Mcgee Lucy E.</dd><dt>&nbsp;</dt><dd>&nbsp;</dd><dt>Authors:</dt><dd>Corvec Nicolas Le;Bebbington Mark S.;Lindsay Jan M.;McGee Lucy E.</dd><dt>Title:</dt><dd>Age, distance, and geochemical evolution within a monogenetic volcanic field Analyzing patterns in the Auckland Volcanic Field eruption sequence</dd><dt>---</dt><dd>&nbsp;</dd><dt>Authors:</dt><dd>Lavoie S.;Willis J. P.;DÃ©moclÃ¨s J.;Eckert D.;Gastaldello F.;Smith G. P.;Lidman C.;Adami C.;Pacaud F.;Pierre M.;Clerc N.;Giles P.;Lieu M.;Chiappetti L.;Altieri B.;Ardila F.;Baldry I.;Bongiorno A.;Desai S.;Elyiv A.;Faccioli L.;Gardner B.;Garilli B.;Groote M. W.;Guennou L.;Guzzo L.;Hopkins A. M.;Liske J.;McGee S.;Melnyk O.;Owers M. S.;Poggianti B.;Ponman T. J.;Scodeggio M.;Spitler L.;Tuffs R. J.</dd><dt>Title:</dt><dd>The XXL survey XV evidence for dry merger driven BCG growth in XXL-100-GC X-ray clusters</dd><dt>---</dt><dd>&nbsp;</dd></dl><hr class=\"thick\">"
      ]
     },
     "metadata": {},
     "output_type": "display_data"
    },
    {
     "name": "stdout",
     "output_type": "stream",
     "text": [
      "Found 102 matches for AUTHORS=    sTeEl \n"
     ]
    },
    {
     "data": {
      "text/html": [
       "<dl><dt>Full Name</dt><dd>Steel Michael James</dd><dt>&nbsp;</dt><dd>&nbsp;</dd><dt>Authors:</dt><dd>Liu Qiang ; Gross Simon ; Withford Michael John ; Steel Michael James</dd><dt>Title:</dt><dd>Femtosecond laser processing in magneto-optical glasses</dd><dt>---</dt><dd>&nbsp;</dd><dt>Authors:</dt><dd>Rohde Peter ; Helt Lukas Gordon ; Steel Michael James ; Gilchrist Alexei</dd><dt>Title:</dt><dd>Multiplexed single-photon-state preparation using a fiber-loop architecture</dd><dt>---</dt><dd>&nbsp;</dd><dt>Authors:</dt><dd>Helt Lukas Gordon ; Steel Michael James ; Sipe J. E.</dd><dt>Title:</dt><dd>Spontaneous parametric downconversion in waveguides : what's loss got to do with it?</dd><dt>---</dt><dd>&nbsp;</dd><dt>Authors:</dt><dd>Chen P. Y. ; Byrne M. A. ; Asatryan A. A. ; Botten L. C. ; Dossou K ; Tuniz A. ; Mcphedran Ross ; De Sterke Carel Martijn ; Poulton Christopher ; Steel Michael James</dd><dt>Title:</dt><dd>Plane-wave scattering by a photonic crystal slab : multipole modal formulation and accuracy</dd><dt>---</dt><dd>&nbsp;</dd></dl><hr class=\"thick\">"
      ]
     },
     "metadata": {},
     "output_type": "display_data"
    },
    {
     "name": "stdout",
     "output_type": "stream",
     "text": [
      "Found 102 matches for AUTHORS=steel\n"
     ]
    },
    {
     "data": {
      "text/html": [
       "<dl><dt>Full Name</dt><dd>Steel Michael James</dd><dt>&nbsp;</dt><dd>&nbsp;</dd><dt>Authors:</dt><dd>Liu Qiang ; Gross Simon ; Withford Michael John ; Steel Michael James</dd><dt>Title:</dt><dd>Femtosecond laser processing in magneto-optical glasses</dd><dt>---</dt><dd>&nbsp;</dd><dt>Authors:</dt><dd>Rohde Peter ; Helt Lukas Gordon ; Steel Michael James ; Gilchrist Alexei</dd><dt>Title:</dt><dd>Multiplexed single-photon-state preparation using a fiber-loop architecture</dd><dt>---</dt><dd>&nbsp;</dd><dt>Authors:</dt><dd>Helt Lukas Gordon ; Steel Michael James ; Sipe J. E.</dd><dt>Title:</dt><dd>Spontaneous parametric downconversion in waveguides : what's loss got to do with it?</dd><dt>---</dt><dd>&nbsp;</dd><dt>Authors:</dt><dd>Chen P. Y. ; Byrne M. A. ; Asatryan A. A. ; Botten L. C. ; Dossou K ; Tuniz A. ; Mcphedran Ross ; De Sterke Carel Martijn ; Poulton Christopher ; Steel Michael James</dd><dt>Title:</dt><dd>Plane-wave scattering by a photonic crystal slab : multipole modal formulation and accuracy</dd><dt>---</dt><dd>&nbsp;</dd></dl><hr class=\"thick\">"
      ]
     },
     "metadata": {},
     "output_type": "display_data"
    },
    {
     "name": "stdout",
     "output_type": "stream",
     "text": [
      "Found 7 matches for AUTHORS=steele\n"
     ]
    },
    {
     "data": {
      "text/html": [
       "<dl><dt>Full Name</dt><dd>Steele O.</dd><dt>&nbsp;</dt><dd>&nbsp;</dd><dt>Authors:</dt><dd>Lara-Lopez M. A. ; Hopkins A M ; Lopez-Sanchez Angel ; Brough S. ; Gunawardhana M. ; Colless Matthew ; Robotham A. S. G. ; Bauer Amanda E. ; Bland-Hawthorn Jonathan ; Cluver M. E. ; Driver S P ; Foster C. ; Kelvin L. S. ; Liske J. ; Loveday J ; Owers M. S. ; Ponman T. ; Sharp R ; Steele O. ; Taylor E. ; Thomas D.</dd><dt>Title:</dt><dd>Galaxy and mass assembly (GAMA) : a deeper view of the mass, metallicity and SFR relationships</dd><dt>---</dt><dd>&nbsp;</dd><dt>Authors:</dt><dd>Lara-Lopez M. A. ; Hopkins A M ; Lopez-Sanchez Angel ; Brough S. ; Colless Matthew ; Bland-Hawthorn Jonathan ; Driver S P ; Foster C. ; Liske J. ; Loveday J ; Robotham A. S. G. ; Sharp R ; Steele O. ; Taylor E.</dd><dt>Title:</dt><dd>Galaxy And Mass Assembly (GAMA) : the connection between metals, specific SFR and H I gas in galaxies : the Z-SSFR relation</dd><dt>---</dt><dd>&nbsp;</dd><dt>Authors:</dt><dd>Foster C. ; Hopkins A M ; Gunawardhana M. ; Lara-Lopez M. A. ; Sharp R G ; Steele O. ; Taylor E. N. ; Driver S P ; Baldry Ivan K. ; Bamford S P ; Liske J. ; Loveday J ; Norberg P. ; Peacock J. A. ; Alpaslan M. ; Bauer Amanda E. ; Bland-Hawthorn Jonathan ; Brough S. ; Cameron E ; Colless Matthew ; Conselice C J ; Croom S M ; Frenk C. S. ; Hill D. T. ; Jones D H ; Kelvin L. S. ; Kuijken K. ; Nichol Robert C ; Owers M. S. ; Parkinson H. R. ; Pimbblet K A ; Popescu C. C. ; Prescott M. ; Robotham A. S. G. ; Lopez-Sanchez Angel ; Sutherland W. J. ; Thomas D. ; Tuffs R. J. ; van Kampen E. ; Wijesinghe D.</dd><dt>Title:</dt><dd>Galaxy And Mass Assembly (GAMA) : the mass-metallicity relationship</dd><dt>---</dt><dd>&nbsp;</dd><dt>Authors:</dt><dd>Bundy Kevin ; Bershady Matthew A. ; Law David ; Yan Renbin ; Drory Niv ; MacDonald Nicholas R. ; Wake David A. ; Cherinka Brian A. ; Sanchez-Gallego Jose Ramon ; Weijmans Anne-Marie ; Thomas Daniel B. ; Tremonti Christy A ; Masters Karen Louise ; Coccato Lodovico ; Diamond-Stanic Aleksandar M. ; Aragon-Salamanca Alfonso ; Avila-Reese Vladimir ; Badenes Carlos ; Falcon-Barroso Jesus ; Belfiore Francesco ; Bizyaev Dmitriy V ; Blanc Guillermo A. ; Bland-Hawthorn Jonathan ; Blanton Michael R ; Brownstein Joel R. ; Byler Nell ; Cappellari Michele ; Conroy Charlie ; Dutton Aaron A. ; Emsellem Eric ; Etherington James ; Frinchaboy Peter M. ; Fu Hai ; Gunn James E ; Harding Paul ; Johnston Evelyn J. ; Kauffmann Guinevere ; Kinemuchi Karen ; Klaene Mark A. ; Klaene Mark A. ; Leauthaud Alexie ; Li Cheng ; Lin Lihwai ; Maiolino Roberto ; Malanushenko Viktor ; Malanushenko Elena ; Mao Shude ; Maraston C ; McDermid Richard ; Merrifield Michael R. ; Nichol Robert C. ; Oravetz Daniel J. ; Pan Kaike ; Parejko John K. ; Sanchez Sebastian F. ; Schlegel David J ; Simmons Audrey E. ; Steele Oliver ; Steinmetz Matthias ; Thanjavur Karun ; Thompson Benjamin A. ; Tinker Jeremy L. ; van den Bosch Remco C. E. ; Westfall Kyle B. ; Wilkinson David ; Wright Shelley ; Xiao Ting ; Zhang Kai</dd><dt>Title:</dt><dd>Overview of the SDSS-IV MaNGA survey : mapping nearby galaxies at Apache Point Observatory</dd><dt>---</dt><dd>&nbsp;</dd></dl><hr class=\"thick\">"
      ]
     },
     "metadata": {},
     "output_type": "display_data"
    },
    {
     "name": "stdout",
     "output_type": "stream",
     "text": [
      "Found 1 matches for AUTHORS=casteels\n"
     ]
    },
    {
     "data": {
      "text/html": [
       "<dl><dt>Full Name</dt><dd>Casteels Kevin R. V.</dd><dt>&nbsp;</dt><dd>&nbsp;</dd><dt>Authors:</dt><dd>Casteels Kevin R. V. ; Conselice C J ; Bamford S P ; Salvador-Sole Eduard ; Norberg P. ; Agius Nicola K. ; Baldry Ivan K. ; Brough Sarah ; Brownstein Michael J. ; Drinkwater Michael J ; Driver Simon ; Graham Alister W. ; Bland-Hawthorn Jonathan ; Hopkins Andrew ; Kelvin L. S. ; Lopez-Sanchez Angel ; Loveday Jon O N ; Robotham A. S. G. ; Vazquez-Mata J. A.</dd><dt>Title:</dt><dd>Galaxy And Mass Assembly (GAMA) : refining the local galaxy merger rate using morphological information</dd><dt>---</dt><dd>&nbsp;</dd></dl><hr class=\"thick\">"
      ]
     },
     "metadata": {},
     "output_type": "display_data"
    },
    {
     "name": "stdout",
     "output_type": "stream",
     "text": [
      "Found 7 matches for AUTHORS=xia\n"
     ]
    },
    {
     "data": {
      "text/html": [
       "<dl><dt>Full Name</dt><dd>Xia Ke Yu</dd><dt>&nbsp;</dt><dd>&nbsp;</dd><dt>Authors:</dt><dd>Xia Ke Yu ; Brennen Gavin Keith ; Ellinas Demosthenes ; Twamley Jason</dd><dt>Title:</dt><dd>Deterministic generation of an on-demand Fock state</dd><dt>---</dt><dd>&nbsp;</dd><dt>Authors:</dt><dd>Xia Ke Yu ; Twamley Jason</dd><dt>Title:</dt><dd>All-optical switching and router via the direct quantum control of coupling between cavity modes</dd><dt>---</dt><dd>&nbsp;</dd><dt>Authors:</dt><dd>Xia Ke Yu ; Zhao Nan ; Twamley Jason</dd><dt>Title:</dt><dd>Detection of a weak magnetic field via cavity-enhanced Faraday rotation</dd><dt>---</dt><dd>&nbsp;</dd><dt>Authors:</dt><dd>Xia Keyu;Twamley Jason</dd><dt>Title:</dt><dd>Generating spin squeezing states and Greenberger-Horne-Zeilinger entanglement using a hybrid phonon-spin ensemble in diamond </dd><dt>---</dt><dd>&nbsp;</dd></dl><hr class=\"thick\">"
      ]
     },
     "metadata": {},
     "output_type": "display_data"
    },
    {
     "name": "stdout",
     "output_type": "stream",
     "text": [
      "Found 3 matches for AUTHORS=xiao\n"
     ]
    },
    {
     "data": {
      "text/html": [
       "<dl><dt>Full Name</dt><dd>Xiao Ting</dd><dt>&nbsp;</dt><dd>&nbsp;</dd><dt>Authors:</dt><dd>Bundy Kevin ; Bershady Matthew A. ; Law David ; Yan Renbin ; Drory Niv ; MacDonald Nicholas R. ; Wake David A. ; Cherinka Brian A. ; Sanchez-Gallego Jose Ramon ; Weijmans Anne-Marie ; Thomas Daniel B. ; Tremonti Christy A ; Masters Karen Louise ; Coccato Lodovico ; Diamond-Stanic Aleksandar M. ; Aragon-Salamanca Alfonso ; Avila-Reese Vladimir ; Badenes Carlos ; Falcon-Barroso Jesus ; Belfiore Francesco ; Bizyaev Dmitriy V ; Blanc Guillermo A. ; Bland-Hawthorn Jonathan ; Blanton Michael R ; Brownstein Joel R. ; Byler Nell ; Cappellari Michele ; Conroy Charlie ; Dutton Aaron A. ; Emsellem Eric ; Etherington James ; Frinchaboy Peter M. ; Fu Hai ; Gunn James E ; Harding Paul ; Johnston Evelyn J. ; Kauffmann Guinevere ; Kinemuchi Karen ; Klaene Mark A. ; Klaene Mark A. ; Leauthaud Alexie ; Li Cheng ; Lin Lihwai ; Maiolino Roberto ; Malanushenko Viktor ; Malanushenko Elena ; Mao Shude ; Maraston C ; McDermid Richard ; Merrifield Michael R. ; Nichol Robert C. ; Oravetz Daniel J. ; Pan Kaike ; Parejko John K. ; Sanchez Sebastian F. ; Schlegel David J ; Simmons Audrey E. ; Steele Oliver ; Steinmetz Matthias ; Thanjavur Karun ; Thompson Benjamin A. ; Tinker Jeremy L. ; van den Bosch Remco C. E. ; Westfall Kyle B. ; Wilkinson David ; Wright Shelley ; Xiao Ting ; Zhang Kai</dd><dt>Title:</dt><dd>Overview of the SDSS-IV MaNGA survey : mapping nearby galaxies at Apache Point Observatory</dd><dt>---</dt><dd>&nbsp;</dd><dt>Authors:</dt><dd>Che Xiao;Sturmann Laszlo;Monnier John D.;ten Brummelaar Theo A.;Sturmann Judit;Ridgway Stephen T.;Ireland Michael J.;Turner Nils H.;McAlister Harold A.</dd><dt>Title:</dt><dd>The CHARA array adaptive optics I common-path optical and mechanical design, and preliminary on-sky results</dd><dt>---</dt><dd>&nbsp;</dd><dt>Authors:</dt><dd>Ten Brummelaar Theo A.;Sturmann Laszlo;Sturmann Judit;Ridgway Stephen T.;Monnier John D.;Ireland Michael J.;Che Xiao;McAlister Harold A.;Turner Nils H.;Tuthill P. G.</dd><dt>Title:</dt><dd>Adaptive optics for the CHARA array </dd><dt>---</dt><dd>&nbsp;</dd></dl><hr class=\"thick\">"
      ]
     },
     "metadata": {},
     "output_type": "display_data"
    },
    {
     "name": "stdout",
     "output_type": "stream",
     "text": [
      "Found 39 matches for AUTHORS=Zvyagin\n"
     ]
    },
    {
     "data": {
      "text/html": [
       "<dl><dt>Full Name</dt><dd>Zvyagin Andrei</dd><dt>&nbsp;</dt><dd>&nbsp;</dd><dt>Authors:</dt><dd>Zvyagin Andrei ; Song Zhen ; Nadort Annemarie ; Sreenivasan Varun Kumaraswamy Annayya Chetty ; Deyev Sergey M</dd><dt>Title:</dt><dd>Luminescent nanomaterials for molecular-specific cellular imaging</dd><dt>---</dt><dd>&nbsp;</dd><dt>Authors:</dt><dd>Song Zhen ; Kelf Timothy ; Sanchez Washington ; Roberts Micheal S ; Ricka Jaro ; Frenz Martin ; Zvyagin Andrei</dd><dt>Title:</dt><dd>Characterization of optical properties of ZnO nanoparticles for quantitative imaging of transdermal transport</dd><dt>---</dt><dd>&nbsp;</dd><dt>Authors:</dt><dd>Zvyagin Andrei ; Manson N B</dd><dt>Title:</dt><dd>Optical and spin properties of nitrogen-vacancy color centers in diamond crystals, nanodiamonds, and proximity to surfaces</dd><dt>---</dt><dd>&nbsp;</dd><dt>Authors:</dt><dd>Sreenivasan Varun Kumaraswamy Annayya Chetty ; Kim Eun Ju ; Goodchild Ann Kathleen ; Connor Mark Andrew ; Zvyagin Andrei</dd><dt>Title:</dt><dd>Targeting somatostatin receptors using in situ-bioconjugated fluorescent nanoparticles</dd><dt>---</dt><dd>&nbsp;</dd></dl><hr class=\"thick\">"
      ]
     },
     "metadata": {},
     "output_type": "display_data"
    }
   ],
   "source": [
    "authors = [\n",
    "    'JelÃ­nkovÃ¡',\n",
    "    'gee',\n",
    "    'McGee',\n",
    "    '    sTeEl ',\n",
    "    'steel',\n",
    "    'steele',\n",
    "    'casteels',\n",
    "    'xia',\n",
    "    'xiao',\n",
    "    'Zvyagin'\n",
    "]\n",
    "\n",
    "for author in authors:\n",
    "    \n",
    "    row_match = erafixer.get_matching_rows(author, 'AUTHORS', blank_discipline=False)\n",
    "    \n",
    "    if(row_match):\n",
    "        display_helpers.show_matches(erafixer, row_match, author)"
   ]
  },
  {
   "cell_type": "code",
   "execution_count": null,
   "metadata": {
    "collapsed": true
   },
   "outputs": [],
   "source": []
  }
 ],
 "metadata": {
  "kernelspec": {
   "display_name": "Python [conda root]",
   "language": "python",
   "name": "conda-root-py"
  },
  "language_info": {
   "codemirror_mode": {
    "name": "ipython",
    "version": 3
   },
   "file_extension": ".py",
   "mimetype": "text/x-python",
   "name": "python",
   "nbconvert_exporter": "python",
   "pygments_lexer": "ipython3",
   "version": "3.5.2"
  }
 },
 "nbformat": 4,
 "nbformat_minor": 2
}
