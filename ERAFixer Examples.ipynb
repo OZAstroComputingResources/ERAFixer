{
 "cells": [
  {
   "cell_type": "code",
   "execution_count": 1,
   "metadata": {},
   "outputs": [
    {
     "data": {
      "text/html": [
       "<style>dl {  width: 100%;  overflow: hidden;  padding: 0;  margin: 0}dt {  float: left;  width: 10%;  /* adjust the width; make sure the total of both is 100% */  padding: 0;  margin: 0}dd {  float: left;  width: 90%;  /* adjust the width; make sure the total of both is 100% */  background: #dd0  padding: 0;  margin: 0}hr.thick {    border: none;    height: 1px;    /* Set the hr color */    color: #333; /* old IE */    background-color: #333; /* Modern Browsers */}</style>"
      ],
      "text/plain": [
       "<IPython.core.display.HTML object>"
      ]
     },
     "metadata": {},
     "output_type": "display_data"
    }
   ],
   "source": [
    "%load_ext autoreload\n",
    "%autoreload 2\n",
    "\n",
    "from IPython.display import display_html, HTML, display\n",
    "css = !cat styles.css\n",
    "display(HTML(''.join(css)))\n",
    "\n",
    "import numpy as np\n",
    "\n",
    "import display_helpers"
   ]
  },
  {
   "cell_type": "code",
   "execution_count": 2,
   "metadata": {
    "collapsed": true
   },
   "outputs": [],
   "source": [
    "from erafixer import EraFixer, COL_LOOKUP"
   ]
  },
  {
   "cell_type": "code",
   "execution_count": 3,
   "metadata": {
    "collapsed": true
   },
   "outputs": [],
   "source": [
    "# Excel file\n",
    "# fn = 'ERA2018_Pubs_02_27-Oct-17.xlsx'\n",
    "fn = 'Copy of ERA2018_Pubs_02_27-Oct-17.xlsx'"
   ]
  },
  {
   "cell_type": "markdown",
   "metadata": {},
   "source": [
    "### Create EraFixer instance"
   ]
  },
  {
   "cell_type": "code",
   "execution_count": 4,
   "metadata": {},
   "outputs": [
    {
     "name": "stdout",
     "output_type": "stream",
     "text": [
      "Parsing file Copy of ERA2018_Pubs_02_27-Oct-17.xlsx\n",
      "Using sheet index 1 - Tab 1 for 02\n"
     ]
    }
   ],
   "source": [
    "erafixer = EraFixer(fn=fn, sheet_index=1, verbose=True)"
   ]
  },
  {
   "cell_type": "code",
   "execution_count": 5,
   "metadata": {},
   "outputs": [
    {
     "name": "stdout",
     "output_type": "stream",
     "text": [
      "Setting discipline to 'biophotonics' for 'Zvyagin'\n",
      "Found 0 matches for 'Zvyagin' with empty discipline\n",
      "Setting discipline to 'astro' for 'Schwab'\n",
      "Found 0 matches for 'Schwab' with empty discipline\n"
     ]
    }
   ],
   "source": [
    "erafixer.set_author_discipline('Zvyagin', 'biophotonics')\n",
    "erafixer.set_author_discipline('Schwab', 'astro')"
   ]
  },
  {
   "cell_type": "code",
   "execution_count": 6,
   "metadata": {},
   "outputs": [
    {
     "name": "stdout",
     "output_type": "stream",
     "text": [
      "Setting discipline to 'astro' for 'astrophysical'\n",
      "Found 0 matches for 'astrophysical' with empty discipline\n",
      "Setting discipline to 'geo' for 'geophysical'\n",
      "Found 0 matches for 'geophysical' with empty discipline\n",
      "Setting discipline to 'geo' for 'geophysics'\n",
      "Found 0 matches for 'geophysics' with empty discipline\n",
      "Setting discipline to 'photonics' for 'optics express'\n",
      "Found 0 matches for 'optics express' with empty discipline\n"
     ]
    }
   ],
   "source": [
    "erafixer.set_journal_discipline('astrophysical', 'astro')\n",
    "erafixer.set_journal_discipline('geophysical', 'geo')\n",
    "erafixer.set_journal_discipline('geophysics', 'geo')\n",
    "erafixer.set_journal_discipline('optics express', 'photonics')"
   ]
  },
  {
   "cell_type": "code",
   "execution_count": 7,
   "metadata": {},
   "outputs": [
    {
     "name": "stdout",
     "output_type": "stream",
     "text": [
      "Writing sheet 'Legend' to Copy of ERA2018_Pubs_02_27-Oct-17.xlsx\n",
      "Writing sheet 'Tab 1 for 02' to Copy of ERA2018_Pubs_02_27-Oct-17.xlsx\n",
      "Writing sheet 'Tab 2 for 02' to Copy of ERA2018_Pubs_02_27-Oct-17.xlsx\n"
     ]
    },
    {
     "data": {
      "text/plain": [
       "'Copy of ERA2018_Pubs_02_27-Oct-17.xlsx'"
      ]
     },
     "execution_count": 7,
     "metadata": {},
     "output_type": "execute_result"
    }
   ],
   "source": [
    "erafixer.save()"
   ]
  },
  {
   "cell_type": "code",
   "execution_count": 148,
   "metadata": {},
   "outputs": [
    {
     "name": "stdout",
     "output_type": "stream",
     "text": [
      "Writing dataframe to OUT_geo.xlsx with 4 records\n",
      "Writing dataframe to OUT_biophotonics.xlsx with 39 records\n",
      "Writing dataframe to OUT_astro.xlsx with 191 records\n",
      "Writing dataframe to OUT_photonics.xlsx with 94 records\n"
     ]
    },
    {
     "data": {
      "text/plain": [
       "['OUT_geo.xlsx',\n",
       " 'OUT_biophotonics.xlsx',\n",
       " 'OUT_astro.xlsx',\n",
       " 'OUT_photonics.xlsx']"
      ]
     },
     "execution_count": 148,
     "metadata": {},
     "output_type": "execute_result"
    }
   ],
   "source": [
    "erafixer.split_disciplines('OUT')"
   ]
  },
  {
   "cell_type": "code",
   "execution_count": 149,
   "metadata": {},
   "outputs": [
    {
     "name": "stdout",
     "output_type": "stream",
     "text": [
      "Parsing file OUT_astro.xlsx\n",
      "Using sheet index 0 - Sheet1\n"
     ]
    }
   ],
   "source": [
    "astro_erafixer = EraFixer(fn='OUT_astro.xlsx', verbose=True)"
   ]
  },
  {
   "cell_type": "code",
   "execution_count": 153,
   "metadata": {},
   "outputs": [
    {
     "name": "stdout",
     "output_type": "stream",
     "text": [
      "Found 191 matches for '0'\n",
      "Copying 2015 FOR codes to 2018 for unhandled rows\n"
     ]
    }
   ],
   "source": [
    "astro_erafixer.carry_forward_forcs()"
   ]
  },
  {
   "cell_type": "code",
   "execution_count": 137,
   "metadata": {},
   "outputs": [],
   "source": [
    "not_handled = astro_erafixer.df.HANDLED == 0\n",
    "col_has_values = astro_erafixer.df.loc[not_handled, (COL_LOOKUP['for1_e15'])].apply(str) != 'nan'"
   ]
  },
  {
   "cell_type": "code",
   "execution_count": 152,
   "metadata": {},
   "outputs": [
    {
     "data": {
      "text/plain": [
       "Int64Index([ 669,  670,  671,  675,  958,  976,  977,  978,  980,  981,  982,\n",
       "             983,  984,  986,  993,  994,  995,  997, 1000, 1005, 1014, 1015,\n",
       "            1016, 1019, 1022, 1023, 1027, 1029, 1032],\n",
       "           dtype='int64')"
      ]
     },
     "execution_count": 152,
     "metadata": {},
     "output_type": "execute_result"
    }
   ],
   "source": [
    "col_has_values[col_has_values].index"
   ]
  },
  {
   "cell_type": "code",
   "execution_count": 154,
   "metadata": {},
   "outputs": [
    {
     "name": "stdout",
     "output_type": "stream",
     "text": [
      "Writing sheet 'Sheet1' to OUT_astro.xlsx\n"
     ]
    },
    {
     "data": {
      "text/plain": [
       "'OUT_astro.xlsx'"
      ]
     },
     "execution_count": 154,
     "metadata": {},
     "output_type": "execute_result"
    }
   ],
   "source": [
    "astro_erafixer.save()"
   ]
  },
  {
   "cell_type": "markdown",
   "metadata": {},
   "source": [
    "#### Test author match\n",
    "\n",
    "We want to make sure we are matching the correct authors. The author should be supplied as the full last name of the author in question. Names are not stored correctly in the excel sheet (should be in UTF-8) but will still match on bad characters. See top name below."
   ]
  },
  {
   "cell_type": "code",
   "execution_count": null,
   "metadata": {
    "scrolled": false
   },
   "outputs": [],
   "source": [
    "authors = [\n",
    "    'JelÃ­nkovÃ¡',\n",
    "    'gee',\n",
    "    'McGee',\n",
    "    '    sTeEl ',\n",
    "    'steel',\n",
    "    'steele',\n",
    "    'casteels',\n",
    "    'xia',\n",
    "    'xiao',\n",
    "    'Zvyagin'\n",
    "]\n",
    "\n",
    "for author in authors:\n",
    "    \n",
    "    row_match = erafixer.get_matching_rows(author, 'AUTHORS', blank_discipline=False)\n",
    "    \n",
    "    if(row_match):\n",
    "        display_helpers.show_matches(erafixer, row_match, author)"
   ]
  },
  {
   "cell_type": "code",
   "execution_count": null,
   "metadata": {
    "collapsed": true
   },
   "outputs": [],
   "source": []
  }
 ],
 "metadata": {
  "kernelspec": {
   "display_name": "Python [conda root]",
   "language": "python",
   "name": "conda-root-py"
  },
  "language_info": {
   "codemirror_mode": {
    "name": "ipython",
    "version": 3
   },
   "file_extension": ".py",
   "mimetype": "text/x-python",
   "name": "python",
   "nbconvert_exporter": "python",
   "pygments_lexer": "ipython3",
   "version": "3.5.2"
  }
 },
 "nbformat": 4,
 "nbformat_minor": 2
}
